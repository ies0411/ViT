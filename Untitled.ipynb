{
 "cells": [
  {
   "cell_type": "code",
   "execution_count": 4,
   "id": "bf942465",
   "metadata": {},
   "outputs": [],
   "source": [
    "import torchvision\n",
    "import torch"
   ]
  },
  {
   "cell_type": "code",
   "execution_count": 2,
   "id": "b7526e95",
   "metadata": {},
   "outputs": [
    {
     "name": "stdout",
     "output_type": "stream",
     "text": [
      "Downloading https://www.cs.toronto.edu/~kriz/cifar-10-python.tar.gz to ./data/cifar-10-python.tar.gz\n"
     ]
    },
    {
     "data": {
      "application/vnd.jupyter.widget-view+json": {
       "model_id": "89bbea5db2b542339105d1203fda0491",
       "version_major": 2,
       "version_minor": 0
      },
      "text/plain": [
       "  0%|          | 0/170498071 [00:00<?, ?it/s]"
      ]
     },
     "metadata": {},
     "output_type": "display_data"
    },
    {
     "name": "stdout",
     "output_type": "stream",
     "text": [
      "Extracting ./data/cifar-10-python.tar.gz to ./data\n"
     ]
    }
   ],
   "source": [
    "trainset = torchvision.datasets.CIFAR10(\n",
    "            root='./data', train=True, download=True\n",
    "        )"
   ]
  },
  {
   "cell_type": "code",
   "execution_count": 35,
   "id": "2b130bcf",
   "metadata": {
    "scrolled": true
   },
   "outputs": [
    {
     "data": {
      "text/plain": [
       "['__add__',\n",
       " '__class__',\n",
       " '__class_getitem__',\n",
       " '__delattr__',\n",
       " '__dict__',\n",
       " '__dir__',\n",
       " '__doc__',\n",
       " '__eq__',\n",
       " '__format__',\n",
       " '__ge__',\n",
       " '__getattribute__',\n",
       " '__getitem__',\n",
       " '__gt__',\n",
       " '__hash__',\n",
       " '__init__',\n",
       " '__init_subclass__',\n",
       " '__le__',\n",
       " '__len__',\n",
       " '__lt__',\n",
       " '__module__',\n",
       " '__ne__',\n",
       " '__new__',\n",
       " '__orig_bases__',\n",
       " '__parameters__',\n",
       " '__reduce__',\n",
       " '__reduce_ex__',\n",
       " '__repr__',\n",
       " '__setattr__',\n",
       " '__sizeof__',\n",
       " '__slots__',\n",
       " '__str__',\n",
       " '__subclasshook__',\n",
       " '__weakref__',\n",
       " '_check_integrity',\n",
       " '_format_transform_repr',\n",
       " '_is_protocol',\n",
       " '_load_meta',\n",
       " '_repr_indent',\n",
       " 'base_folder',\n",
       " 'class_to_idx',\n",
       " 'classes',\n",
       " 'data',\n",
       " 'download',\n",
       " 'extra_repr',\n",
       " 'filename',\n",
       " 'meta',\n",
       " 'root',\n",
       " 'target_transform',\n",
       " 'targets',\n",
       " 'test_list',\n",
       " 'tgz_md5',\n",
       " 'train',\n",
       " 'train_list',\n",
       " 'transform',\n",
       " 'transforms',\n",
       " 'url']"
      ]
     },
     "execution_count": 35,
     "metadata": {},
     "output_type": "execute_result"
    }
   ],
   "source": [
    "dir(trainset)\n",
    "# trainset.data.shape[0]\n",
    "# trainset.targets"
   ]
  },
  {
   "cell_type": "code",
   "execution_count": 5,
   "id": "061e4e2c",
   "metadata": {},
   "outputs": [
    {
     "data": {
      "text/plain": [
       "torch.Size([3, 32, 32])"
      ]
     },
     "execution_count": 5,
     "metadata": {},
     "output_type": "execute_result"
    }
   ],
   "source": [
    "image_tensor = torch.tensor(trainset.data[0])\n",
    "image_tensor.size()\n",
    "image_tensor = image_tensor.permute(2,0,1)\n",
    "image_tensor.size()"
   ]
  },
  {
   "cell_type": "code",
   "execution_count": 12,
   "id": "85b2816a",
   "metadata": {},
   "outputs": [
    {
     "data": {
      "text/plain": [
       "torch.Size([1, 4])"
      ]
     },
     "execution_count": 12,
     "metadata": {},
     "output_type": "execute_result"
    }
   ],
   "source": [
    "test_tensor = torch.tensor([[1,2,3,4]])\n",
    "test_tensor.size()"
   ]
  },
  {
   "cell_type": "code",
   "execution_count": 17,
   "id": "699764f8",
   "metadata": {},
   "outputs": [
    {
     "data": {
      "text/plain": [
       "tensor([[1],\n",
       "        [2],\n",
       "        [3],\n",
       "        [4]])"
      ]
     },
     "execution_count": 17,
     "metadata": {},
     "output_type": "execute_result"
    }
   ],
   "source": [
    "v1 = test_tensor.reshape(4,-1)\n",
    "v1.size()\n",
    "v1"
   ]
  },
  {
   "cell_type": "code",
   "execution_count": 18,
   "id": "536134b0",
   "metadata": {},
   "outputs": [
    {
     "data": {
      "text/plain": [
       "tensor([[1],\n",
       "        [2],\n",
       "        [3],\n",
       "        [4]])"
      ]
     },
     "execution_count": 18,
     "metadata": {},
     "output_type": "execute_result"
    }
   ],
   "source": [
    "v2 = test_tensor.permute(1,0)\n",
    "v2.size()\n",
    "v2"
   ]
  },
  {
   "cell_type": "code",
   "execution_count": 7,
   "id": "a329a6d1",
   "metadata": {},
   "outputs": [
    {
     "data": {
      "text/plain": [
       "torch.Size([3, 8, 32, 4])"
      ]
     },
     "execution_count": 7,
     "metadata": {},
     "output_type": "execute_result"
    }
   ],
   "source": [
    "unfold_image = image_tensor.unfold(1,4,4)\n",
    "unfold_image.size()\n",
    "# unfold_image = unfold_image.unfold(2,4,4)\n",
    "# unfold_image.size()\n",
    "# torch.Tensor.unfold(dim,slice size, step)\n"
   ]
  },
  {
   "cell_type": "code",
   "execution_count": 88,
   "id": "553042d4",
   "metadata": {},
   "outputs": [
    {
     "data": {
      "text/plain": [
       "torch.Size([3, 64, 4, 4])"
      ]
     },
     "execution_count": 88,
     "metadata": {},
     "output_type": "execute_result"
    }
   ],
   "source": [
    "unfold_image = unfold_image.reshape(3,-1,4,4)\n",
    "unfold_image.size()"
   ]
  },
  {
   "cell_type": "code",
   "execution_count": 89,
   "id": "2e727d46",
   "metadata": {},
   "outputs": [
    {
     "data": {
      "text/plain": [
       "torch.Size([64, 3, 4, 4])"
      ]
     },
     "execution_count": 89,
     "metadata": {},
     "output_type": "execute_result"
    }
   ],
   "source": [
    "unfold_image = unfold_image.permute(1,0,2,3)\n",
    "unfold_image.size()"
   ]
  },
  {
   "cell_type": "code",
   "execution_count": 93,
   "id": "b3bc477e",
   "metadata": {},
   "outputs": [
    {
     "data": {
      "text/plain": [
       "torch.Size([64, 48])"
      ]
     },
     "execution_count": 93,
     "metadata": {},
     "output_type": "execute_result"
    }
   ],
   "source": [
    "unfold_image=unfold_image.reshape(64,-1)\n",
    "unfold_image.size()"
   ]
  },
  {
   "cell_type": "code",
   "execution_count": 103,
   "id": "df590c21",
   "metadata": {},
   "outputs": [
    {
     "name": "stdout",
     "output_type": "stream",
     "text": [
      "torch.Size([5000])\n",
      "torch.Size([5000, 1])\n"
     ]
    }
   ],
   "source": [
    "pos = torch.arange(0,5000)\n",
    "print(pos.size())\n",
    "pos = pos.float().unsqueeze(dim=1)\n",
    "print(pos.size())"
   ]
  },
  {
   "cell_type": "code",
   "execution_count": 104,
   "id": "40cc1aea",
   "metadata": {},
   "outputs": [
    {
     "data": {
      "text/plain": [
       "array([1, 2, 3, 4, 5])"
      ]
     },
     "execution_count": 104,
     "metadata": {},
     "output_type": "execute_result"
    }
   ],
   "source": [
    "import numpy as np\n",
    "a = np.array([1,2,3,4,5])\n",
    "a"
   ]
  },
  {
   "cell_type": "code",
   "execution_count": 106,
   "id": "f4904240",
   "metadata": {},
   "outputs": [
    {
     "data": {
      "text/plain": [
       "array([2, 4])"
      ]
     },
     "execution_count": 106,
     "metadata": {},
     "output_type": "execute_result"
    }
   ],
   "source": [
    "a[1::2]"
   ]
  },
  {
   "cell_type": "code",
   "execution_count": 138,
   "id": "270fe336",
   "metadata": {
    "scrolled": true
   },
   "outputs": [
    {
     "name": "stdout",
     "output_type": "stream",
     "text": [
      "torch.Size([32, 32, 3])\n"
     ]
    },
    {
     "data": {
      "text/plain": [
       "tensor([[[ 59,  62,  63],\n",
       "         [ 43,  46,  45],\n",
       "         [ 50,  48,  43],\n",
       "         ...,\n",
       "         [158, 132, 108],\n",
       "         [152, 125, 102],\n",
       "         [148, 124, 103]],\n",
       "\n",
       "        [[ 16,  20,  20],\n",
       "         [  0,   0,   0],\n",
       "         [ 18,   8,   0],\n",
       "         ...,\n",
       "         [123,  88,  55],\n",
       "         [119,  83,  50],\n",
       "         [122,  87,  57]],\n",
       "\n",
       "        [[ 25,  24,  21],\n",
       "         [ 16,   7,   0],\n",
       "         [ 49,  27,   8],\n",
       "         ...,\n",
       "         [118,  84,  50],\n",
       "         [120,  84,  50],\n",
       "         [109,  73,  42]],\n",
       "\n",
       "        ...,\n",
       "\n",
       "        [[208, 170,  96],\n",
       "         [201, 153,  34],\n",
       "         [198, 161,  26],\n",
       "         ...,\n",
       "         [160, 133,  70],\n",
       "         [ 56,  31,   7],\n",
       "         [ 53,  34,  20]],\n",
       "\n",
       "        [[180, 139,  96],\n",
       "         [173, 123,  42],\n",
       "         [186, 144,  30],\n",
       "         ...,\n",
       "         [184, 148,  94],\n",
       "         [ 97,  62,  34],\n",
       "         [ 83,  53,  34]],\n",
       "\n",
       "        [[177, 144, 116],\n",
       "         [168, 129,  94],\n",
       "         [179, 142,  87],\n",
       "         ...,\n",
       "         [216, 184, 140],\n",
       "         [151, 118,  84],\n",
       "         [123,  92,  72]]], dtype=torch.uint8)"
      ]
     },
     "execution_count": 138,
     "metadata": {},
     "output_type": "execute_result"
    }
   ],
   "source": [
    "x = torch.tensor(trainset.data[0])\n",
    "print(x.size())\n",
    "# x = reshape(8, -1, self.latent_vec_dim)\n",
    "#         q = q.view(batch_size, -1, self.num_heads, self.head_dim).permute(0,2,1,3)\n",
    "x"
   ]
  },
  {
   "cell_type": "code",
   "execution_count": 140,
   "id": "92dfa557",
   "metadata": {
    "scrolled": true
   },
   "outputs": [
    {
     "data": {
      "text/plain": [
       "torch.Size([32, 3, 32])"
      ]
     },
     "execution_count": 140,
     "metadata": {},
     "output_type": "execute_result"
    }
   ],
   "source": [
    "# x = x.view(3,2,-1).permute(0,2,1)\n",
    "\n",
    "a=x.contiguous()\n",
    "a = a.view(3,32,32).permute(1,0,2)\n",
    "a.size()"
   ]
  },
  {
   "cell_type": "code",
   "execution_count": null,
   "id": "7be4641e",
   "metadata": {},
   "outputs": [],
   "source": [
    "b=x.contiguous()\n",
    "b = b.view(3,32,32)"
   ]
  },
  {
   "cell_type": "code",
   "execution_count": 119,
   "id": "a6795fca",
   "metadata": {},
   "outputs": [
    {
     "data": {
      "text/plain": [
       "tensor([[[ 59,  62,  63,  43],\n",
       "         [ 46,  45,  50,  48],\n",
       "         [ 43,  68,  54,  42],\n",
       "         ...,\n",
       "         [ 43, 119,  77,  37],\n",
       "         [108,  70,  33, 122],\n",
       "         [ 82,  44, 123,  81]],\n",
       "\n",
       "        [[ 39, 105,  65,  25],\n",
       "         [107,  72,  31, 111],\n",
       "         [ 77,  31, 108,  74],\n",
       "         ...,\n",
       "         [ 73,  37, 138,  82],\n",
       "         [ 46, 134,  85,  57],\n",
       "         [140,  92,  76, 175]],\n",
       "\n",
       "        [[129, 106, 142,  99],\n",
       "         [ 53, 102,  61,  26],\n",
       "         [108,  67,  25, 135],\n",
       "         ...,\n",
       "         [124,  92,  52, 125],\n",
       "         [ 91,  49, 126,  88],\n",
       "         [ 46, 124,  88,  54]],\n",
       "\n",
       "        [[149, 115,  79, 143],\n",
       "         [ 95,  49, 144,  97],\n",
       "         [ 51, 151,  99,  51],\n",
       "         ...,\n",
       "         [ 85, 166, 141, 118],\n",
       "         [188, 166, 147, 182],\n",
       "         [156, 132, 171, 134]],\n",
       "\n",
       "        [[ 99, 165, 115,  69],\n",
       "         [195, 148,  99, 190],\n",
       "         [153, 110, 152, 108],\n",
       "         ...,\n",
       "         [108,  70, 152, 106],\n",
       "         [ 65, 135,  90,  48],\n",
       "         [139,  95,  50, 155]],\n",
       "\n",
       "        [[110,  63, 161, 113],\n",
       "         [ 65, 154, 107,  63],\n",
       "         [154, 112,  67, 143],\n",
       "         ...,\n",
       "         [170, 140, 104, 216],\n",
       "         [184, 140, 151, 118],\n",
       "         [ 84, 123,  92,  72]]], dtype=torch.uint8)"
      ]
     },
     "execution_count": 119,
     "metadata": {},
     "output_type": "execute_result"
    }
   ],
   "source": [
    "b = x.reshape(6,-1,4)\n",
    "b.size()\n",
    "b"
   ]
  },
  {
   "cell_type": "code",
   "execution_count": null,
   "id": "5e5f9bd5",
   "metadata": {},
   "outputs": [],
   "source": [
    "x = x.permute(0, 2, 1, 3).reshape(batch_size, -1, self.latent_vec_dim)"
   ]
  },
  {
   "cell_type": "code",
   "execution_count": 152,
   "id": "6fb8c079",
   "metadata": {},
   "outputs": [],
   "source": [
    "x=torch.tensor([[[1,2,3],[4,5,6]],[[7,8,9],[10,11,12]]])"
   ]
  },
  {
   "cell_type": "code",
   "execution_count": 153,
   "id": "6aa8c214",
   "metadata": {},
   "outputs": [
    {
     "data": {
      "text/plain": [
       "tensor([[[ 1,  2,  3],\n",
       "         [ 4,  5,  6]],\n",
       "\n",
       "        [[ 7,  8,  9],\n",
       "         [10, 11, 12]]])"
      ]
     },
     "execution_count": 153,
     "metadata": {},
     "output_type": "execute_result"
    }
   ],
   "source": [
    "x.size() #2,2,3\n",
    "x"
   ]
  },
  {
   "cell_type": "code",
   "execution_count": 154,
   "id": "0c711eae",
   "metadata": {},
   "outputs": [
    {
     "data": {
      "text/plain": [
       "torch.Size([3, 2, 2])"
      ]
     },
     "execution_count": 154,
     "metadata": {},
     "output_type": "execute_result"
    }
   ],
   "source": [
    "x=x.permute(2,0,1)\n",
    "x.size()"
   ]
  },
  {
   "cell_type": "code",
   "execution_count": 155,
   "id": "c1db4803",
   "metadata": {},
   "outputs": [
    {
     "data": {
      "text/plain": [
       "tensor([[[ 1,  4],\n",
       "         [ 7, 10]],\n",
       "\n",
       "        [[ 2,  5],\n",
       "         [ 8, 11]],\n",
       "\n",
       "        [[ 3,  6],\n",
       "         [ 9, 12]]])"
      ]
     },
     "execution_count": 155,
     "metadata": {},
     "output_type": "execute_result"
    }
   ],
   "source": [
    "x"
   ]
  },
  {
   "cell_type": "code",
   "execution_count": 172,
   "id": "96320591",
   "metadata": {},
   "outputs": [],
   "source": [
    "meta = [{'class_name': 'OUT_Structure', 'class_id': 'c0fdd802-486a-43d9-a028-12890ea4a7ad', 'anno_type': 'cuboid', 'score_thres': 0.5}, {'class_name': 'OUT_Pole', 'class_id': 'db5817ff-ef62-4244-82f6-ef9de8cddc45', 'anno_type': 'cuboid', 'score_thres': 0.5}, {'class_name': 'OUT_Gate', 'class_id': '9ea3bc5c-e1e0-449c-861e-d3c2f93fbb4c', 'anno_type': 'cuboid', 'score_thres': 0.5}, {'class_name': 'OUT_Traffic_Safety_Stuff', 'class_id': 'e68444e2-4eca-4ce9-b010-8c9bbb25b0b3', 'anno_type': 'cuboid', 'score_thres': 0.5}, {'class_name': 'IN_Wall', 'class_id': 'b9035af7-bdbd-4419-94ed-775ed150d8cd', 'anno_type': 'cuboid', 'score_thres': 0.5}, {'class_name': 'IN_Obstruction', 'class_id': 'db3e3ba5-fd54-42ff-9811-106f67fd188b', 'anno_type': 'cuboid', 'score_thres': 0.5}, {'class_name': 'Undefined_Object', 'class_id': '6729a205-9152-42bf-b310-3c89ee82d715', 'anno_type': 'cuboid', 'score_thres': 0.5}, {'class_name': 'Vehicle', 'class_id': '922df812-02ab-441a-819c-f506db691f2e', 'anno_type': 'cuboid', 'score_thres': 0.5}, {'class_name': 'Human', 'class_id': '874c0ca1-7145-4c81-86a3-9ce1991829cf', 'anno_type': 'cuboid', 'score_thres': 0.5}]"
   ]
  },
  {
   "cell_type": "code",
   "execution_count": 173,
   "id": "9e639770",
   "metadata": {},
   "outputs": [
    {
     "data": {
      "text/plain": [
       "[{'class_name': 'OUT_Structure',\n",
       "  'class_id': 'c0fdd802-486a-43d9-a028-12890ea4a7ad',\n",
       "  'anno_type': 'cuboid',\n",
       "  'score_thres': 0.5},\n",
       " {'class_name': 'OUT_Pole',\n",
       "  'class_id': 'db5817ff-ef62-4244-82f6-ef9de8cddc45',\n",
       "  'anno_type': 'cuboid',\n",
       "  'score_thres': 0.5},\n",
       " {'class_name': 'OUT_Gate',\n",
       "  'class_id': '9ea3bc5c-e1e0-449c-861e-d3c2f93fbb4c',\n",
       "  'anno_type': 'cuboid',\n",
       "  'score_thres': 0.5},\n",
       " {'class_name': 'OUT_Traffic_Safety_Stuff',\n",
       "  'class_id': 'e68444e2-4eca-4ce9-b010-8c9bbb25b0b3',\n",
       "  'anno_type': 'cuboid',\n",
       "  'score_thres': 0.5},\n",
       " {'class_name': 'IN_Wall',\n",
       "  'class_id': 'b9035af7-bdbd-4419-94ed-775ed150d8cd',\n",
       "  'anno_type': 'cuboid',\n",
       "  'score_thres': 0.5},\n",
       " {'class_name': 'IN_Obstruction',\n",
       "  'class_id': 'db3e3ba5-fd54-42ff-9811-106f67fd188b',\n",
       "  'anno_type': 'cuboid',\n",
       "  'score_thres': 0.5},\n",
       " {'class_name': 'Undefined_Object',\n",
       "  'class_id': '6729a205-9152-42bf-b310-3c89ee82d715',\n",
       "  'anno_type': 'cuboid',\n",
       "  'score_thres': 0.5},\n",
       " {'class_name': 'Vehicle',\n",
       "  'class_id': '922df812-02ab-441a-819c-f506db691f2e',\n",
       "  'anno_type': 'cuboid',\n",
       "  'score_thres': 0.5},\n",
       " {'class_name': 'Human',\n",
       "  'class_id': '874c0ca1-7145-4c81-86a3-9ce1991829cf',\n",
       "  'anno_type': 'cuboid',\n",
       "  'score_thres': 0.5}]"
      ]
     },
     "execution_count": 173,
     "metadata": {},
     "output_type": "execute_result"
    }
   ],
   "source": [
    "meta"
   ]
  },
  {
   "cell_type": "code",
   "execution_count": 174,
   "id": "ed354f83",
   "metadata": {},
   "outputs": [],
   "source": [
    "\n",
    "indices_removal_list = []\n",
    "# for idx, model_class in enumerate(model_classes):\n",
    "#     if model_class['class_name'] not in classes_name:\n",
    "#         indices_removal_list.append(idx)\n",
    "#         # model_classes.pop(idx)\n",
    "# indices_removal_list.sort(reverse=True)\n",
    "# for index in indices_removal_list:\n",
    "#     del model_classes[index]"
   ]
  },
  {
   "cell_type": "code",
   "execution_count": 175,
   "id": "c596b922",
   "metadata": {},
   "outputs": [
    {
     "data": {
      "text/plain": [
       "[{'class_name': 'Vehicle',\n",
       "  'class_id': '922df812-02ab-441a-819c-f506db691f2e',\n",
       "  'anno_type': 'cuboid',\n",
       "  'score_thres': 0.5},\n",
       " {'class_name': 'Human',\n",
       "  'class_id': '874c0ca1-7145-4c81-86a3-9ce1991829cf',\n",
       "  'anno_type': 'cuboid',\n",
       "  'score_thres': 0.5}]"
      ]
     },
     "execution_count": 175,
     "metadata": {},
     "output_type": "execute_result"
    }
   ],
   "source": [
    "class_name = ['Vehicle','Human']\n",
    "for idx,x in enumerate(meta):\n",
    "    if x['class_name'] not in class_name:\n",
    "        indices_removal_list.append(idx)\n",
    "indices_removal_list.sort(reverse=True)\n",
    "for index in indices_removal_list:\n",
    "    del meta[index]\n",
    "meta"
   ]
  },
  {
   "cell_type": "code",
   "execution_count": null,
   "id": "e9560e4d",
   "metadata": {},
   "outputs": [],
   "source": []
  },
  {
   "cell_type": "code",
   "execution_count": null,
   "id": "dfecae29",
   "metadata": {},
   "outputs": [],
   "source": []
  }
 ],
 "metadata": {
  "kernelspec": {
   "display_name": "Python 3 (ipykernel)",
   "language": "python",
   "name": "python3"
  },
  "language_info": {
   "codemirror_mode": {
    "name": "ipython",
    "version": 3
   },
   "file_extension": ".py",
   "mimetype": "text/x-python",
   "name": "python",
   "nbconvert_exporter": "python",
   "pygments_lexer": "ipython3",
   "version": "3.8.13"
  }
 },
 "nbformat": 4,
 "nbformat_minor": 5
}
